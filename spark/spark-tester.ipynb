{
 "cells": [
  {
   "cell_type": "markdown",
   "id": "b85f63f8",
   "metadata": {},
   "source": [
    "## This is a Spark Environment tester"
   ]
  },
  {
   "cell_type": "code",
   "execution_count": null,
   "id": "e21818eb",
   "metadata": {},
   "outputs": [],
   "source": [
    "from pyspark.sql import SparkSession\n",
    "import os\n",
    "\n",
    "os.environ['JAVA_HOME'] = 'C:\\\\Program Files\\\\Java\\\\jdk-24'\n",
    "\n",
    "builder = (\n",
    "    SparkSession.builder\n",
    "    .appName(\"DeltaLakeLocal\")\n",
    "    .master(\"local[*]\")\n",
    "    .config(\"spark.jars\", \"C:/spark/spark-3.5.5-bin-hadoop3-scala2.13/jars/delta-core_2.12-2.4.0.jar,C:/spark/spark-3.5.5-bin-hadoop3-scala2.13/jars/delta-storage-2.4.0.jar\")\n",
    "    .config(\"spark.sql.extensions\", \"io.delta.sql.DeltaSparkSessionExtension\")\n",
    "    .config(\"spark.sql.catalog.spark_catalog\", \"org.apache.spark.sql.delta.catalog.DeltaCatalog\")\n",
    ")\n",
    "\n",
    "spark = builder.getOrCreate()\n",
    "\n",
    "# Test Delta support\n",
    "df = spark.range(0, 5)\n",
    "df.write.format(\"delta\").mode(\"overwrite\").save(\"delta-test\")\n",
    "\n",
    "df2 = spark.read.format(\"delta\").load(\"delta-test\")\n",
    "df2.show()\n"
   ]
  },
  {
   "cell_type": "code",
   "execution_count": 2,
   "id": "e4e7af1a",
   "metadata": {},
   "outputs": [
    {
     "name": "stdout",
     "output_type": "stream",
     "text": [
      "Hello, Alice!\n",
      "Hello, Bob!\n"
     ]
    }
   ],
   "source": [
    "from typing import List\n",
    "\n",
    "def greet(names: List[str]):\n",
    "    for name in names:\n",
    "        print(f\"Hello, {name}!\")\n",
    "\n",
    "greet([\"Alice\", \"Bob\"])"
   ]
  },
  {
   "cell_type": "code",
   "execution_count": 1,
   "id": "6f3f6e9a",
   "metadata": {},
   "outputs": [],
   "source": [
    "from pyspark.sql import SparkSession"
   ]
  }
 ],
 "metadata": {
  "kernelspec": {
   "display_name": "Python 3",
   "language": "python",
   "name": "python3"
  },
  "language_info": {
   "codemirror_mode": {
    "name": "ipython",
    "version": 3
   },
   "file_extension": ".py",
   "mimetype": "text/x-python",
   "name": "python",
   "nbconvert_exporter": "python",
   "pygments_lexer": "ipython3",
   "version": "3.13.2"
  }
 },
 "nbformat": 4,
 "nbformat_minor": 5
}
