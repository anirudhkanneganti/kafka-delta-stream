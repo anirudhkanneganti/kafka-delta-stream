{
 "cells": [
  {
   "cell_type": "markdown",
   "id": "b4741506",
   "metadata": {},
   "source": [
    "#### Print Environment Variables"
   ]
  },
  {
   "cell_type": "code",
   "execution_count": 1,
   "id": "15cf7d65",
   "metadata": {},
   "outputs": [
    {
     "name": "stdout",
     "output_type": "stream",
     "text": [
      "C:\\spark\\spark-3.4.4-bin-hadoop3-scala2.13\n",
      "C:\\kafka\\kafka_2.13-3.9.0\n",
      "C:\\hadoop-3.3.6\n",
      "C:\\Program Files\\Java\\jdk-1.8\n"
     ]
    }
   ],
   "source": [
    "import os\n",
    "print(os.environ.get(\"SPARK_HOME\"))\n",
    "print(os.environ.get(\"KAFKA_HOME\"))\n",
    "print(os.environ.get(\"HADOOP_HOME\"))\n",
    "print(os.environ.get(\"JAVA_HOME\"))"
   ]
  },
  {
   "cell_type": "markdown",
   "id": "d8aa5bcc",
   "metadata": {},
   "source": [
    "#### Spark Session with Kafka Support"
   ]
  },
  {
   "cell_type": "code",
   "execution_count": 2,
   "id": "e7966d42",
   "metadata": {},
   "outputs": [
    {
     "name": "stdout",
     "output_type": "stream",
     "text": [
      "Spark Version: 3.4.4\n"
     ]
    }
   ],
   "source": [
    "from pyspark.sql import SparkSession\n",
    "\n",
    "spark = (\n",
    "    SparkSession.builder\n",
    "    .appName(\"KafkaRetailConsumer\")\n",
    "    .master(\"local[*]\")\n",
    "    .getOrCreate()\n",
    ")\n",
    "\n",
    "\n",
    "print(\"Spark Version:\", spark.version)\n",
    "spark.stop()\n"
   ]
  },
  {
   "cell_type": "code",
   "execution_count": 3,
   "id": "44320ef6",
   "metadata": {},
   "outputs": [],
   "source": [
    "from pyspark.sql import SparkSession\n",
    "\n",
    "spark = (\n",
    "    SparkSession.builder\n",
    "    .appName(\"KafkaRetailConsumer\")\n",
    "    .master(\"local[*]\")\n",
    "    # .config(\"spark.sql.shuffle.partitions\", \"2\")\n",
    "    # .config(\"spark.sql.streaming.schemaInference\", \"true\")\n",
    "    .config(\"spark.jars.packages\",\n",
    "            \"org.apache.spark:spark-sql-kafka-0-10_2.13:3.4.4,\"\n",
    "            \"org.apache.spark:spark-token-provider-kafka-0-10_2.13:3.4.4,\"\n",
    "            \"org.apache.kafka:kafka-clients:3.5.1,\"\n",
    "            \"org.apache.commons:commons-pool2:2.11.1,\"\n",
    "            \"io.delta:delta-spark_2.13:2.4.0\")\n",
    "    .config(\"spark.sql.extensions\", \"io.delta.sql.DeltaSparkSessionExtension\")\n",
    "    .config(\"spark.sql.catalog.spark_catalog\", \"org.apache.spark.sql.delta.catalog.DeltaCatalog\")\n",
    "    .getOrCreate()\n",
    ")\n"
   ]
  },
  {
   "cell_type": "markdown",
   "id": "eae3abe9",
   "metadata": {},
   "source": [
    "#### Read from Kafka Topics"
   ]
  },
  {
   "cell_type": "code",
   "execution_count": 4,
   "id": "ba974314",
   "metadata": {},
   "outputs": [],
   "source": [
    "df_raw = (\n",
    "    spark.readStream\n",
    "    .format(\"kafka\")\n",
    "    .option(\"kafka.bootstrap.servers\", \"localhost:9092\")\n",
    "    .option(\"subscribe\", \"retail_orders_us,retail_orders_in,retail_orders_others\")\n",
    "    .option(\"startingOffsets\", \"earliest\")  # \"latest\" if you only want new ones\n",
    "    .load()\n",
    ")"
   ]
  },
  {
   "cell_type": "markdown",
   "id": "1d32ef2a",
   "metadata": {},
   "source": [
    "#### Parse The JSON Messages"
   ]
  },
  {
   "cell_type": "code",
   "execution_count": 5,
   "id": "2100fe56",
   "metadata": {},
   "outputs": [],
   "source": [
    "from pyspark.sql.functions import col, from_json\n",
    "from pyspark.sql.types import StructType, StringType, IntegerType, FloatType, TimestampType\n",
    "\n",
    "schema = StructType() \\\n",
    "    .add(\"order_id\", StringType()) \\\n",
    "    .add(\"product_id\", StringType()) \\\n",
    "    .add(\"quantity\", StringType()) \\\n",
    "    .add(\"price\", StringType()) \\\n",
    "    .add(\"country\", StringType()) \\\n",
    "    .add(\"channel\", StringType()) \\\n",
    "    .add(\"timestamp\", StringType())\n",
    "\n",
    "df_parsed = (\n",
    "    df_raw\n",
    "    .selectExpr(\"CAST(value AS STRING)\", \"topic\", \"partition\", \"offset\")\n",
    "    .withColumn(\"jsonData\", from_json(col(\"value\"), schema))\n",
    "    .select(\n",
    "        \"topic\", \"partition\", \"offset\",\n",
    "        col(\"jsonData.*\"))\n",
    "    .withColumn(\"quantity\", col(\"quantity\").cast(\"int\"))\n",
    "    .withColumn(\"price\", col(\"price\").cast(\"float\"))\n",
    "\n",
    ")\n"
   ]
  },
  {
   "cell_type": "markdown",
   "id": "c3bf92f0",
   "metadata": {},
   "source": [
    "#### Write Stream to Delta - Partitioned by Country"
   ]
  },
  {
   "cell_type": "code",
   "execution_count": null,
   "id": "222c5829",
   "metadata": {},
   "outputs": [
    {
     "name": "stdout",
     "output_type": "stream",
     "text": [
      "---- Processing Batch 0 ----\n",
      "+----------------+---------+------+--------+----------+--------+------+-------+-------+--------------------+\n",
      "|topic           |partition|offset|order_id|product_id|quantity|price |country|channel|timestamp           |\n",
      "+----------------+---------+------+--------+----------+--------+------+-------+-------+--------------------+\n",
      "|retail_orders_us|0        |0     |ORD001  |P106      |2       |179.01|US     |mobile |2025-04-07T10:00:00Z|\n",
      "|retail_orders_us|0        |1     |ORD004  |P108      |3       |129.7 |US     |online |2025-04-07T10:00:45Z|\n",
      "|retail_orders_us|0        |2     |ORD007  |P125      |1       |130.6 |US     |mobile |2025-04-07T10:01:30Z|\n",
      "|retail_orders_us|0        |3     |ORD009  |P141      |3       |54.91 |US     |store  |2025-04-07T10:02:00Z|\n",
      "|retail_orders_us|0        |4     |ORD013  |P111      |5       |144.08|US     |online |2025-04-07T10:03:00Z|\n",
      "|retail_orders_us|0        |5     |ORD014  |P149      |4       |131.83|US     |mobile |2025-04-07T10:03:15Z|\n",
      "|retail_orders_us|0        |6     |ORD015  |P107      |2       |39.35 |US     |online |2025-04-07T10:03:30Z|\n",
      "|retail_orders_us|0        |7     |ORD021  |P136      |4       |107.2 |US     |mobile |2025-04-07T10:05:00Z|\n",
      "|retail_orders_us|0        |8     |ORD028  |P125      |1       |132.08|US     |online |2025-04-07T10:06:45Z|\n",
      "|retail_orders_us|0        |9     |ORD034  |P121      |4       |168.36|US     |store  |2025-04-07T10:08:15Z|\n",
      "|retail_orders_us|0        |10    |ORD035  |P108      |1       |182.69|US     |mobile |2025-04-07T10:08:30Z|\n",
      "|retail_orders_us|0        |11    |ORD043  |P104      |1       |17.48 |US     |mobile |2025-04-07T10:10:30Z|\n",
      "|retail_orders_us|0        |12    |ORD053  |P103      |4       |193.33|US     |store  |2025-04-07T10:13:00Z|\n",
      "|retail_orders_us|0        |13    |ORD054  |P129      |5       |147.09|US     |store  |2025-04-07T10:13:15Z|\n",
      "|retail_orders_us|0        |14    |ORD059  |P127      |3       |14.9  |US     |store  |2025-04-07T10:14:30Z|\n",
      "|retail_orders_us|0        |15    |ORD063  |P104      |3       |182.71|US     |online |2025-04-07T10:15:30Z|\n",
      "|retail_orders_us|0        |16    |ORD085  |P117      |5       |51.19 |US     |online |2025-04-07T10:21:00Z|\n",
      "|retail_orders_us|0        |17    |ORD091  |P135      |4       |88.14 |US     |online |2025-04-07T10:22:30Z|\n",
      "|retail_orders_in|0        |0     |ORD005  |P116      |4       |100.23|IN     |store  |2025-04-07T10:01:00Z|\n",
      "|retail_orders_in|0        |1     |ORD020  |P121      |5       |24.83 |IN     |store  |2025-04-07T10:04:45Z|\n",
      "+----------------+---------+------+--------+----------+--------+------+-------+-------+--------------------+\n",
      "only showing top 20 rows\n",
      "\n",
      "---- Batch 0 written to Delta ----\n"
     ]
    }
   ],
   "source": [
    "from pyspark.sql.functions import col\n",
    "\n",
    "def debug_batch(df, epoch_id):\n",
    "    if df.count() == 0:\n",
    "        print(f\"---- Batch {epoch_id} is empty ----\")\n",
    "        return\n",
    "\n",
    "    print(f\"---- Processing Batch {epoch_id} ----\")\n",
    "    df.show(truncate=False)\n",
    "\n",
    "    (\n",
    "        df.write\n",
    "        .format(\"delta\")\n",
    "        .mode(\"append\")\n",
    "        .partitionBy(\"country\")\n",
    "        .save(\"delta/orders_by_country\")\n",
    "    )\n",
    "\n",
    "    print(f\"---- Batch {epoch_id} written to Delta ----\")\n",
    "\n",
    "# Start the streaming query\n",
    "query = (\n",
    "    df_parsed.writeStream\n",
    "    .outputMode(\"append\")\n",
    "    .foreachBatch(debug_batch)\n",
    "    .option(\"checkpointLocation\", \"delta/checkpoints/orders_by_country_batch\")\n",
    "    .start()\n",
    ")\n",
    "\n",
    "query.awaitTermination(120)\n"
   ]
  },
  {
   "cell_type": "code",
   "execution_count": null,
   "id": "badcd2c1",
   "metadata": {},
   "outputs": [
    {
     "data": {
      "text/plain": [
       "False"
      ]
     },
     "execution_count": 5,
     "metadata": {},
     "output_type": "execute_result"
    }
   ],
   "source": [
    "# Code for testing the parsed dataframe\n",
    "df_parsed.writeStream.format(\"console\").start().awaitTermination(10)\n",
    "query.stop()\n",
    "df_parsed.printSchema()"
   ]
  },
  {
   "cell_type": "markdown",
   "id": "732d71e8",
   "metadata": {},
   "source": [
    "#### Query the Delta Tables"
   ]
  },
  {
   "cell_type": "code",
   "execution_count": 6,
   "id": "b1e08f1e",
   "metadata": {},
   "outputs": [
    {
     "name": "stdout",
     "output_type": "stream",
     "text": [
      "+-------+--------+\n",
      "|country|count(1)|\n",
      "+-------+--------+\n",
      "|     GE|      22|\n",
      "|     UK|      20|\n",
      "|     US|      18|\n",
      "|     IN|      16|\n",
      "|     FR|      13|\n",
      "|     CA|      11|\n",
      "+-------+--------+\n",
      "\n"
     ]
    }
   ],
   "source": [
    "df_all = spark.read.format(\"delta\").load(\"delta/orders_by_country\")\n",
    "df_all.createOrReplaceTempView(\"orders\")\n",
    "\n",
    "spark.sql(\"SELECT country, COUNT(*) FROM orders GROUP BY country\").show()\n"
   ]
  },
  {
   "cell_type": "code",
   "execution_count": 7,
   "id": "7e6909f0",
   "metadata": {},
   "outputs": [
    {
     "name": "stdout",
     "output_type": "stream",
     "text": [
      "+--------------------+---------+------+--------+----------+--------+------+-------+-------+--------------------+\n",
      "|               topic|partition|offset|order_id|product_id|quantity| price|country|channel|           timestamp|\n",
      "+--------------------+---------+------+--------+----------+--------+------+-------+-------+--------------------+\n",
      "|retail_orders_others|        1|     1|  ORD006|      P130|       3| 62.13|     GE| online|2025-04-07T10:01:15Z|\n",
      "|retail_orders_others|        1|     3|  ORD010|      P109|       2| 61.81|     GE| online|2025-04-07T10:02:15Z|\n",
      "|retail_orders_others|        1|     6|  ORD017|      P120|       5|198.89|     GE| online|2025-04-07T10:04:00Z|\n",
      "|retail_orders_others|        1|     7|  ORD018|      P137|       2|141.92|     GE| mobile|2025-04-07T10:04:15Z|\n",
      "|retail_orders_others|        1|     8|  ORD019|      P120|       1| 68.73|     GE|  store|2025-04-07T10:04:30Z|\n",
      "|retail_orders_others|        1|     9|  ORD023|      P108|       2|135.57|     GE| online|2025-04-07T10:05:30Z|\n",
      "|retail_orders_others|        1|    10|  ORD030|      P109|       5|192.76|     GE| online|2025-04-07T10:07:15Z|\n",
      "|retail_orders_others|        1|    11|  ORD032|      P138|       2| 32.62|     GE| mobile|2025-04-07T10:07:45Z|\n",
      "|retail_orders_others|        1|    16|  ORD045|      P114|       1| 13.62|     GE| mobile|2025-04-07T10:11:00Z|\n",
      "|retail_orders_others|        1|    19|  ORD050|      P134|       5|152.43|     GE|  store|2025-04-07T10:12:15Z|\n",
      "|retail_orders_others|        1|    22|  ORD057|      P105|       1|185.78|     GE| mobile|2025-04-07T10:14:00Z|\n",
      "|retail_orders_others|        1|    24|  ORD064|      P105|       5|155.94|     GE| online|2025-04-07T10:15:45Z|\n",
      "|retail_orders_others|        1|    25|  ORD065|      P104|       3|  93.1|     GE|  store|2025-04-07T10:16:00Z|\n",
      "|retail_orders_others|        1|    26|  ORD066|      P139|       2|118.44|     GE| mobile|2025-04-07T10:16:15Z|\n",
      "|retail_orders_others|        1|    29|  ORD072|      P109|       3| 73.98|     GE|  store|2025-04-07T10:17:45Z|\n",
      "|retail_orders_others|        1|    30|  ORD073|      P146|       5|194.23|     GE|  store|2025-04-07T10:18:00Z|\n",
      "|retail_orders_others|        1|    32|  ORD076|      P147|       2| 99.59|     GE| mobile|2025-04-07T10:18:45Z|\n",
      "|retail_orders_others|        1|    34|  ORD081|      P130|       4| 60.55|     GE| mobile|2025-04-07T10:20:00Z|\n",
      "|retail_orders_others|        1|    35|  ORD082|      P100|       2| 156.9|     GE|  store|2025-04-07T10:20:15Z|\n",
      "|retail_orders_others|        1|    37|  ORD090|      P118|       2|161.11|     GE| mobile|2025-04-07T10:22:15Z|\n",
      "+--------------------+---------+------+--------+----------+--------+------+-------+-------+--------------------+\n",
      "only showing top 20 rows\n",
      "\n"
     ]
    }
   ],
   "source": [
    "spark.sql(\"SELECT * FROM orders\").show()"
   ]
  },
  {
   "cell_type": "markdown",
   "id": "01dbecba",
   "metadata": {},
   "source": [
    "#### Dynamic Table Creation for \"Channel\" context"
   ]
  },
  {
   "cell_type": "code",
   "execution_count": 9,
   "id": "d4dc0c7c",
   "metadata": {},
   "outputs": [
    {
     "name": "stdout",
     "output_type": "stream",
     "text": [
      "\n",
      " Processing Batch: 0\n",
      "Writing data for channel: online -> delta/dynamic_orders/online\n",
      "Writing data for channel: mobile -> delta/dynamic_orders/mobile\n",
      "Writing data for channel: store -> delta/dynamic_orders/store\n"
     ]
    },
    {
     "data": {
      "text/plain": [
       "False"
      ]
     },
     "execution_count": 9,
     "metadata": {},
     "output_type": "execute_result"
    }
   ],
   "source": [
    "from pyspark.sql.functions import col\n",
    "\n",
    "def write_per_channel(batch_df, batch_id):\n",
    "    print(f\"\\n Processing Batch: {batch_id}\")\n",
    "    \n",
    "    channels = [row['channel'] for row in batch_df.select(\"channel\").distinct().collect()]\n",
    "    \n",
    "    for channel in channels:\n",
    "        channel_df = batch_df.filter(col(\"channel\") == channel)\n",
    "        output_path = f\"delta/dynamic_orders/{channel}\"\n",
    "        \n",
    "        print(f\"Writing data for channel: {channel} -> {output_path}\")\n",
    "        \n",
    "        (\n",
    "            channel_df.write\n",
    "            .format(\"delta\")\n",
    "            .mode(\"append\")\n",
    "            .option(\"mergeSchema\", \"true\")\n",
    "            .save(output_path)\n",
    "        )\n",
    "\n",
    "query = (\n",
    "    df_parsed.writeStream\n",
    "    .outputMode(\"append\")\n",
    "    .foreachBatch(write_per_channel)\n",
    "    .option(\"checkpointLocation\", \"delta/checkpoints/dynamic_orders_by_channel\")\n",
    "    .start()\n",
    ")\n",
    "\n",
    "query.awaitTermination(120)\n",
    "\n"
   ]
  },
  {
   "cell_type": "code",
   "execution_count": 14,
   "id": "02b94f59",
   "metadata": {},
   "outputs": [
    {
     "name": "stdout",
     "output_type": "stream",
     "text": [
      "+--------------------+---------+------+--------+----------+--------+------+-------+-------+--------------------+\n",
      "|               topic|partition|offset|order_id|product_id|quantity| price|country|channel|           timestamp|\n",
      "+--------------------+---------+------+--------+----------+--------+------+-------+-------+--------------------+\n",
      "|retail_orders_others|        1|     6|  ORD017|      P120|       5|198.89|     GE| online|2025-04-07T10:04:00Z|\n",
      "|retail_orders_others|        1|     7|  ORD018|      P137|       2|141.92|     GE| mobile|2025-04-07T10:04:15Z|\n",
      "|retail_orders_others|        1|     9|  ORD023|      P108|       2|135.57|     GE| online|2025-04-07T10:05:30Z|\n",
      "|retail_orders_others|        1|    10|  ORD030|      P109|       5|192.76|     GE| online|2025-04-07T10:07:15Z|\n",
      "|retail_orders_others|        1|    19|  ORD050|      P134|       5|152.43|     GE|  store|2025-04-07T10:12:15Z|\n",
      "|retail_orders_others|        1|    22|  ORD057|      P105|       1|185.78|     GE| mobile|2025-04-07T10:14:00Z|\n",
      "|retail_orders_others|        1|    24|  ORD064|      P105|       5|155.94|     GE| online|2025-04-07T10:15:45Z|\n",
      "|retail_orders_others|        1|    26|  ORD066|      P139|       2|118.44|     GE| mobile|2025-04-07T10:16:15Z|\n",
      "|retail_orders_others|        1|    30|  ORD073|      P146|       5|194.23|     GE|  store|2025-04-07T10:18:00Z|\n",
      "|retail_orders_others|        1|    35|  ORD082|      P100|       2| 156.9|     GE|  store|2025-04-07T10:20:15Z|\n",
      "|retail_orders_others|        1|    37|  ORD090|      P118|       2|161.11|     GE| mobile|2025-04-07T10:22:15Z|\n",
      "|retail_orders_others|        1|    39|  ORD094|      P136|       4|167.84|     GE| mobile|2025-04-07T10:23:15Z|\n",
      "|retail_orders_others|        1|     4|  ORD011|      P110|       3|162.12|     UK| online|2025-04-07T10:02:30Z|\n",
      "|retail_orders_others|        1|    12|  ORD033|      P113|       3|114.42|     UK| online|2025-04-07T10:08:00Z|\n",
      "|retail_orders_others|        1|    14|  ORD038|      P112|       3|129.78|     UK|  store|2025-04-07T10:09:15Z|\n",
      "|retail_orders_others|        1|    23|  ORD062|      P121|       2|132.42|     UK|  store|2025-04-07T10:15:15Z|\n",
      "|retail_orders_others|        1|    38|  ORD092|      P149|       3|176.83|     UK| mobile|2025-04-07T10:22:45Z|\n",
      "|    retail_orders_us|        0|     0|  ORD001|      P106|       2|179.01|     US| mobile|2025-04-07T10:00:00Z|\n",
      "|    retail_orders_us|        0|     1|  ORD004|      P108|       3| 129.7|     US| online|2025-04-07T10:00:45Z|\n",
      "|    retail_orders_us|        0|     2|  ORD007|      P125|       1| 130.6|     US| mobile|2025-04-07T10:01:30Z|\n",
      "+--------------------+---------+------+--------+----------+--------+------+-------+-------+--------------------+\n",
      "only showing top 20 rows\n",
      "\n"
     ]
    }
   ],
   "source": [
    "from pyspark.sql import DataFrame\n",
    "\n",
    "# Load all individual channel tables\n",
    "df_online = spark.read.format(\"delta\").load(\"delta/dynamic_orders/online\")\n",
    "df_store = spark.read.format(\"delta\").load(\"delta/dynamic_orders/store\")\n",
    "df_mobile = spark.read.format(\"delta\").load(\"delta/dynamic_orders/mobile\")\n",
    "\n",
    "# Union all into a single DataFrame\n",
    "df_all = df_online.unionByName(df_store).unionByName(df_mobile)\n",
    "df_all.createOrReplaceTempView(\"all_orders\")\n",
    "\n",
    "spark.sql(\"SELECT * FROM orders where price > 100\").show()"
   ]
  },
  {
   "cell_type": "code",
   "execution_count": null,
   "id": "e52d7072",
   "metadata": {},
   "outputs": [],
   "source": []
  }
 ],
 "metadata": {
  "kernelspec": {
   "display_name": "Python 3",
   "language": "python",
   "name": "python3"
  },
  "language_info": {
   "codemirror_mode": {
    "name": "ipython",
    "version": 3
   },
   "file_extension": ".py",
   "mimetype": "text/x-python",
   "name": "python",
   "nbconvert_exporter": "python",
   "pygments_lexer": "ipython3",
   "version": "3.13.2"
  }
 },
 "nbformat": 4,
 "nbformat_minor": 5
}
